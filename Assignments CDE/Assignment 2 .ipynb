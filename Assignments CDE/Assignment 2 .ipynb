{
 "cells": [
  {
   "cell_type": "markdown",
   "id": "0f8d022c-e8ca-462f-a8f3-31e18b2f2aed",
   "metadata": {},
   "source": [
    "# Part -2 Python Basics (Conditional Statements)"
   ]
  },
  {
   "cell_type": "markdown",
   "id": "e0dbee32-f78f-4f28-b352-f1bbd5ec27e8",
   "metadata": {},
   "source": [
    "##### A company decided to give bonus of 5% to employee if his/her year of service is more than 5 years. Ask user for their salary and year of service and print the net bonus amount."
   ]
  },
  {
   "cell_type": "code",
   "execution_count": 1,
   "id": "0410e9cf-ae0d-440d-8d0f-b3f145296285",
   "metadata": {},
   "outputs": [
    {
     "name": "stdin",
     "output_type": "stream",
     "text": [
      "Enter your salary:  20000\n",
      "Enter your years of service:  5\n"
     ]
    },
    {
     "name": "stdout",
     "output_type": "stream",
     "text": [
      "You are not eligible for a bonus.\n"
     ]
    }
   ],
   "source": [
    "salary = int(input(\"Enter your salary: \"))\n",
    "years_of_service = int(input(\"Enter your years of service: \"))\n",
    "\n",
    "if years_of_service > 5:\n",
    "    bonus = salary * 0.05\n",
    "    print(f\"Your bonus amount is: {bonus}\")\n",
    "else:\n",
    "\n",
    "    print(\"You are not eligible for a bonus.\")"
   ]
  },
  {
   "cell_type": "markdown",
   "id": "a35e2f38-47bb-4e2b-bef0-cedccacd91c8",
   "metadata": {},
   "source": [
    "##### Write a program to check whether a person is eligible for voting or not. (accept age from user) if age is greater than 17 eligible otherwise not eligible"
   ]
  },
  {
   "cell_type": "code",
   "execution_count": 3,
   "id": "47bf50d3-9c1d-434c-8ec0-0e5e3a32bef5",
   "metadata": {},
   "outputs": [
    {
     "name": "stdin",
     "output_type": "stream",
     "text": [
      "Enter your age:  23\n"
     ]
    },
    {
     "name": "stdout",
     "output_type": "stream",
     "text": [
      "You are eligible to vote.\n"
     ]
    }
   ],
   "source": [
    "age = int(input(\"Enter your age: \"))\n",
    "\n",
    "if age > 17:\n",
    "    print(\"You are eligible to vote.\")\n",
    "else:\n",
    "    print(\"You are not eligible to vote.\")"
   ]
  },
  {
   "cell_type": "markdown",
   "id": "468092e0-05ed-4eb2-bbab-76d6680e6a6c",
   "metadata": {},
   "source": [
    "##### Write a program to check whether a number entered by user is even or odd."
   ]
  },
  {
   "cell_type": "code",
   "execution_count": 6,
   "id": "8195ddc4-ae91-4da3-9b9b-69fdd5da60e9",
   "metadata": {},
   "outputs": [
    {
     "name": "stdin",
     "output_type": "stream",
     "text": [
      "Add a number:  6\n"
     ]
    },
    {
     "name": "stdout",
     "output_type": "stream",
     "text": [
      "6 is odd.\n"
     ]
    }
   ],
   "source": [
    "add_number = int(input(\"Add a number: \"))\n",
    "\n",
    "if add_number % 6 == 9:\n",
    "    print(f\"{add_number} is even.\")\n",
    "else:\n",
    "    print(f\"{add_number} is odd.\")"
   ]
  },
  {
   "cell_type": "markdown",
   "id": "7b63b9d2-930a-4017-b952-6a5908ae396a",
   "metadata": {},
   "source": [
    "##### Write a program to check whether a number is divisible by 7 or not. Show Answer\n"
   ]
  },
  {
   "cell_type": "code",
   "execution_count": 8,
   "id": "835fd3f5-70c9-4ae2-960b-873e80c49299",
   "metadata": {},
   "outputs": [
    {
     "name": "stdin",
     "output_type": "stream",
     "text": [
      "Enter a number to check divisibility by 7:  5\n"
     ]
    },
    {
     "name": "stdout",
     "output_type": "stream",
     "text": [
      "5 is not divisible by 7.\n"
     ]
    }
   ],
   "source": [
    "div_number = int(input(\"Enter a number to check divisibility by 7: \"))\n",
    "if div_number % 7 == 0:\n",
    "    print(f\"{div_number} is divisible by 7.\")\n",
    "else:\n",
    "    print(f\"{div_number} is not divisible by 7.\")\n",
    "    "
   ]
  },
  {
   "cell_type": "markdown",
   "id": "65c64148-7006-436b-a93a-defa6819bb0c",
   "metadata": {},
   "source": [
    "##### Write a program to display \"Hello\" if a number entered by user is a multiple of five , otherwise print \"Bye\".\n"
   ]
  },
  {
   "cell_type": "code",
   "execution_count": 11,
   "id": "69775a6d-6afc-4838-bc4c-fda835986260",
   "metadata": {},
   "outputs": [
    {
     "name": "stdin",
     "output_type": "stream",
     "text": [
      "Enter a number to check if it's a multiple of 5:  10\n"
     ]
    },
    {
     "name": "stdout",
     "output_type": "stream",
     "text": [
      "Hello\n"
     ]
    }
   ],
   "source": [
    "multiple_five = int(input(\"Enter a number to check if it's a multiple of 5: \"))\n",
    "if multiple_five % 5 == 0:\n",
    "    print(\"Hello\")\n",
    "else:\n",
    "    print(\"Bye\")"
   ]
  },
  {
   "cell_type": "markdown",
   "id": "a92e3439-9078-40bd-b7f3-6f3cd224a54f",
   "metadata": {},
   "source": [
    "##### Write a program to calculate the electricity bill (accept number of unit from user) according to the following criteria : Unit Price uptp 100 units no charge Next 200 units Rs 5 per unit After 200 units Rs 10 per unit (For example if input unit is 350 than total bill amount is Rs.3500 (For example if input unit is 97 than total bill amount is Rs.0 (For example if input unit is 150 than total bill amount is Rs.750"
   ]
  },
  {
   "cell_type": "code",
   "execution_count": 30,
   "id": "36383345-8a7c-49f2-b123-b769571fb7a6",
   "metadata": {},
   "outputs": [
    {
     "name": "stdin",
     "output_type": "stream",
     "text": [
      "Enter the number of electricity units used:  97\n"
     ]
    },
    {
     "name": "stdout",
     "output_type": "stream",
     "text": [
      "Total electricity bill amount is: Rs.0\n"
     ]
    }
   ],
   "source": [
    "units = int(input(\"Enter the number of electricity units used: \"))\n",
    "if units <= 100:\n",
    "    bill = 0\n",
    "elif units <= 200:\n",
    "    bill = (units) * 5\n",
    "else:\n",
    "    bill = (units) * 10\n",
    "\n",
    "print(f\"Total electricity bill amount is: Rs.{bill}\")"
   ]
  },
  {
   "cell_type": "markdown",
   "id": "82c39d13-0618-4a5d-98c8-a8b303b16c0f",
   "metadata": {},
   "source": [
    "##### Write a program to display the last digit of a number.\n"
   ]
  },
  {
   "cell_type": "code",
   "execution_count": 34,
   "id": "cd1b35f4-7a4e-42fe-9031-bf5172a46880",
   "metadata": {},
   "outputs": [
    {
     "name": "stdin",
     "output_type": "stream",
     "text": [
      "Enter a number to find its last digit:  75\n"
     ]
    },
    {
     "name": "stdout",
     "output_type": "stream",
     "text": [
      "The last digit of 75 is 5.\n"
     ]
    }
   ],
   "source": [
    "last_digit_number = int(input(\"Enter a number to find its last digit: \"))\n",
    "last_digit = last_digit_number % 10\n",
    "print(f\"The last digit of {last_digit_number} is {last_digit}.\")"
   ]
  },
  {
   "cell_type": "markdown",
   "id": "82c09748-da46-4859-a26b-ad323da28e0f",
   "metadata": {},
   "source": [
    "##### Take values of length and breadth of a rectangle from user and print if it is square or rectangle.\n"
   ]
  },
  {
   "cell_type": "code",
   "execution_count": 36,
   "id": "1f31e271-f834-4df1-a635-ad06c090cef2",
   "metadata": {},
   "outputs": [
    {
     "name": "stdin",
     "output_type": "stream",
     "text": [
      "Enter the length of the shape:  4\n",
      "Enter the breadth of the shape:  4\n"
     ]
    },
    {
     "name": "stdout",
     "output_type": "stream",
     "text": [
      "It is a square.\n"
     ]
    }
   ],
   "source": [
    "length = float(input(\"Enter the length of the shape: \"))\n",
    "breadth = float(input(\"Enter the breadth of the shape: \"))\n",
    "\n",
    "if length == breadth:\n",
    "    print(\"It is a square.\")\n",
    "else:\n",
    "    print(\"It is a rectangle.\")"
   ]
  },
  {
   "cell_type": "markdown",
   "id": "7cfee1fd-0cd3-4313-983c-ba6cc882bc13",
   "metadata": {},
   "source": [
    "##### Take two int values from user and print greatest among them."
   ]
  },
  {
   "cell_type": "code",
   "execution_count": 37,
   "id": "0aeceaa0-83ac-4869-bfbe-155934f3154b",
   "metadata": {},
   "outputs": [
    {
     "name": "stdin",
     "output_type": "stream",
     "text": [
      "Enter the first number:  6\n",
      "Enter the second number:  1\n"
     ]
    },
    {
     "name": "stdout",
     "output_type": "stream",
     "text": [
      "The greatest number is 6.\n"
     ]
    }
   ],
   "source": [
    "num1 = int(input(\"Enter the first number: \"))\n",
    "num2 = int(input(\"Enter the second number: \"))\n",
    "\n",
    "if num1 > num2:\n",
    "    print(f\"The greatest number is {num1}.\")\n",
    "elif num2 > num1:\n",
    "    print(f\"The greatest number is {num2}.\")\n",
    "else:\n",
    "    print(\"Both numbers are equal.\")\n"
   ]
  },
  {
   "cell_type": "markdown",
   "id": "650e3a20-cfd9-4b35-ac93-8ac23297e1b0",
   "metadata": {},
   "source": [
    "##### A shop will give discount of 10% if the cost of purchased quantity is more than 1000. Ask user for quantity Suppose, one unit will cost 100. Judge and print total cost for user."
   ]
  },
  {
   "cell_type": "code",
   "execution_count": 40,
   "id": "4807df45-2a7b-4055-abd8-0b458c1831ba",
   "metadata": {},
   "outputs": [
    {
     "name": "stdin",
     "output_type": "stream",
     "text": [
      "Enter the quantity of items:  1000\n"
     ]
    },
    {
     "name": "stdout",
     "output_type": "stream",
     "text": [
      "90000.0\n"
     ]
    }
   ],
   "source": [
    "quantity = int(input(\"Enter the quantity of items: \"))\n",
    "cost = quantity * 100\n",
    "if cost > 1000:\n",
    "    discount = cost * 0.10\n",
    "    total_cost = cost - discount\n",
    "else:\n",
    "    total_cost = cost\n",
    "print(total_cost)"
   ]
  },
  {
   "cell_type": "markdown",
   "id": "44b5e9b9-dd06-4e30-90d6-1d0f64567291",
   "metadata": {},
   "source": [
    "##### A school has following rules for grading system:\n",
    "##### a. Below 25 - F\n",
    "##### b. 25 to 45 - E\n",
    "##### c. 45 to 50 - D\n",
    "##### d. 50 to 60 - C\n",
    "##### e. 60 to 80 - B\n",
    "##### f. Above 80 - A\n",
    "##### Ask user to enter marks and print the corresponding grade."
   ]
  },
  {
   "cell_type": "code",
   "execution_count": 41,
   "id": "015b64e6-806f-4054-91b2-ab1325c0b297",
   "metadata": {},
   "outputs": [
    {
     "name": "stdin",
     "output_type": "stream",
     "text": [
      "Enter your marks:  80\n"
     ]
    },
    {
     "name": "stdout",
     "output_type": "stream",
     "text": [
      "Your grade is: A\n"
     ]
    }
   ],
   "source": [
    "marks = int(input(\"Enter your marks: \"))\n",
    "if marks < 25:\n",
    "    grade = \"F\"\n",
    "elif 25 <= marks < 45:\n",
    "    grade = \"E\"\n",
    "elif 45 <= marks < 50:\n",
    "    grade = \"D\"\n",
    "elif 50 <= marks < 60:\n",
    "    grade = \"C\"\n",
    "elif 60 <= marks < 80:\n",
    "    grade = \"B\"\n",
    "else:\n",
    "    grade = \"A\"\n",
    "print(f\"Your grade is: {grade}\")"
   ]
  },
  {
   "cell_type": "markdown",
   "id": "120d4500-9470-4dea-9573-5c301fa64988",
   "metadata": {},
   "source": [
    "##### A student will not be allowed to sit in exam if his/her attendence is less than 75%.\n",
    "##### Take following input from user\n",
    "##### Number of classes held\n",
    "##### Number of classes attended.\n",
    "##### And print\n",
    "##### percentage of class attended\n",
    "##### Is student is allowed to sit in exam or not."
   ]
  },
  {
   "cell_type": "code",
   "execution_count": 44,
   "id": "08780079-2857-4807-848b-f67951bf4259",
   "metadata": {},
   "outputs": [
    {
     "name": "stdin",
     "output_type": "stream",
     "text": [
      "Enter the number of classes held:  30\n",
      "Enter the number of classes attended:  15\n"
     ]
    },
    {
     "name": "stdout",
     "output_type": "stream",
     "text": [
      "Attendance Percentage: 50.00%\n"
     ]
    },
    {
     "name": "stdin",
     "output_type": "stream",
     "text": [
      "Do you have a medical cause? (Y/N):  Y\n"
     ]
    },
    {
     "name": "stdout",
     "output_type": "stream",
     "text": [
      "You are allowed to sit in the exam due to medical cause.\n"
     ]
    }
   ],
   "source": [
    "classes_held = int(input(\"Enter the number of classes held: \"))\n",
    "classes_attended = int(input(\"Enter the number of classes attended: \"))\n",
    "\n",
    "attendance_percentage = (classes_attended / classes_held) * 100\n",
    "print(f\"Attendance Percentage: {attendance_percentage:.2f}%\")\n",
    "\n",
    "if attendance_percentage >= 75:\n",
    "    print(\"You are allowed to sit in the exam.\")\n",
    "else:\n",
    "    medical_cause = input(\"Do you have a medical cause? (Y/N): \").strip().upper()\n",
    "    if medical_cause == \"Y\":\n",
    "        print(\"You are allowed to sit in the exam due to medical cause.\")\n",
    "    else:\n",
    "        print(\"You are not allowed to sit in the exam.\")"
   ]
  },
  {
   "cell_type": "markdown",
   "id": "2b447a65-ddf5-4344-a614-b944c7b3a46c",
   "metadata": {},
   "source": [
    "##### Write a program to check if a year is leap year or not. If a year is divisible by 4 then it is leap year but if the year is century year like 2000, 1900, 2100 then it must be divisible by 400"
   ]
  },
  {
   "cell_type": "code",
   "execution_count": 47,
   "id": "790249f0-b07a-4bf2-a732-f349e4d96746",
   "metadata": {},
   "outputs": [
    {
     "name": "stdin",
     "output_type": "stream",
     "text": [
      "Enter a year to check if it's a leap year:  12\n"
     ]
    },
    {
     "name": "stdout",
     "output_type": "stream",
     "text": [
      "12 is a leap year.\n"
     ]
    }
   ],
   "source": [
    "year = int(input(\"Enter a year to check if it's a leap year: \"))\n",
    "if (year % 4 == 0 and year % 100 != 0) or (year % 400 == 0):\n",
    "    print(f\"{year} is a leap year.\")\n",
    "else:\n",
    "    print(f\"{year} is not a leap year.\")"
   ]
  },
  {
   "cell_type": "markdown",
   "id": "68cab093-7481-4c67-af59-b923aeadd5d8",
   "metadata": {},
   "source": [
    "##### Ask user to enter age, gender ( M or F ), marital status ( Y or N ) and then using following rules print their place of service.\n",
    "##### if employee is female, then she will work only in urban areas.\n",
    "##### if employee is a male and age is in between 20 to 40 then he may work in anywhere\n",
    "##### if employee is male and age is in between 40 t0 60 then he will work in urban areas only.\n",
    "##### And any other input of age should print \"ERROR\""
   ]
  },
  {
   "cell_type": "code",
   "execution_count": 48,
   "id": "d680463c-51e2-430e-be01-b3e12cb62165",
   "metadata": {},
   "outputs": [
    {
     "name": "stdin",
     "output_type": "stream",
     "text": [
      "Enter your age:  23\n",
      "Enter your gender (M/F):  M\n",
      "Enter marital status (Y/N):  N\n"
     ]
    },
    {
     "name": "stdout",
     "output_type": "stream",
     "text": [
      "You may work anywhere.\n"
     ]
    }
   ],
   "source": [
    "age = int(input(\"Enter your age: \"))\n",
    "gender = input(\"Enter your gender (M/F): \")\n",
    "marital_status = input(\"Enter marital status (Y/N): \")\n",
    "\n",
    "if gender == \"F\":\n",
    "    print(\"You will work only in urban areas.\")\n",
    "elif gender == \"M\":\n",
    "    if 20 <= age <= 40:\n",
    "        print(\"You may work anywhere.\")\n",
    "    elif 40 < age <= 60:\n",
    "        print(\"You will work only in urban areas.\")\n",
    "    else:\n",
    "        print(\"ERROR\")\n",
    "else:\n",
    "    print(\"ERROR\")\n"
   ]
  },
  {
   "cell_type": "markdown",
   "id": "5cfad194-27c5-4935-8f06-38e31531b90b",
   "metadata": {},
   "source": [
    "##### Take input of age of 3 people by user and determine oldest and youngest among them.\n"
   ]
  },
  {
   "cell_type": "code",
   "execution_count": 49,
   "id": "fa087745-0971-49bd-80b5-75d355c8384a",
   "metadata": {},
   "outputs": [
    {
     "name": "stdin",
     "output_type": "stream",
     "text": [
      "Enter the age of the first person:  20\n",
      "Enter the age of the second person:  30\n",
      "Enter the age of the third person:  25\n"
     ]
    },
    {
     "name": "stdout",
     "output_type": "stream",
     "text": [
      "The oldest person is 30 years old.\n",
      "The youngest person is 20 years old.\n"
     ]
    }
   ],
   "source": [
    "age1 = int(input(\"Enter the age of the first person: \"))\n",
    "age2 = int(input(\"Enter the age of the second person: \"))\n",
    "age3 = int(input(\"Enter the age of the third person: \"))\n",
    "\n",
    "oldest = max(age1, age2, age3)\n",
    "youngest = min(age1, age2, age3)\n",
    "\n",
    "print(f\"The oldest person is {oldest} years old.\")\n",
    "print(f\"The youngest person is {youngest} years old.\")"
   ]
  },
  {
   "cell_type": "code",
   "execution_count": null,
   "id": "c85d9458-3492-436f-a99c-647605c2d00f",
   "metadata": {},
   "outputs": [],
   "source": []
  }
 ],
 "metadata": {
  "kernelspec": {
   "display_name": "Python 3 (ipykernel)",
   "language": "python",
   "name": "python3"
  },
  "language_info": {
   "codemirror_mode": {
    "name": "ipython",
    "version": 3
   },
   "file_extension": ".py",
   "mimetype": "text/x-python",
   "name": "python",
   "nbconvert_exporter": "python",
   "pygments_lexer": "ipython3",
   "version": "3.12.7"
  }
 },
 "nbformat": 4,
 "nbformat_minor": 5
}
