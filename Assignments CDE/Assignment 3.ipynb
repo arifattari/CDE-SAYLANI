{
 "cells": [
  {
   "cell_type": "code",
   "execution_count": 14,
   "id": "0e296663-71c9-43c3-8f76-1a254a3276cd",
   "metadata": {},
   "outputs": [
    {
     "name": "stdin",
     "output_type": "stream",
     "text": [
      "Enter a string:  jpsiokm\n"
     ]
    },
    {
     "name": "stdout",
     "output_type": "stream",
     "text": [
      "The number of vowels in the string is: 2\n"
     ]
    }
   ],
   "source": [
    "def count_vowels(input_string):\n",
    "    vowels = \"aeiouAEIOU\"\n",
    "    count = 0\n",
    "    for char in input_string:\n",
    "        if char in vowels:\n",
    "            count += 1\n",
    "    return count\n",
    "user_input = input(\"Enter a string: \")\n",
    "vowel_count = count_vowels(user_input)\n",
    "print(f\"The number of vowels in the string is: {vowel_count}\")"
   ]
  },
  {
   "cell_type": "code",
   "execution_count": 15,
   "id": "9a80bd40-7b25-497b-85cf-5d2bf3d6d9dc",
   "metadata": {},
   "outputs": [
    {
     "name": "stdin",
     "output_type": "stream",
     "text": [
      "Enter a string:  1321\n"
     ]
    },
    {
     "name": "stdout",
     "output_type": "stream",
     "text": [
      "Number of uppercase letters: 0\n",
      "Number of lowercase letters: 0\n",
      "Number of digits: 4\n",
      "Number of whitespace characters: 0\n"
     ]
    }
   ],
   "source": [
    "    uppercase_count = 0\n",
    "    lowercase_count = 0\n",
    "    digit_count = 0\n",
    "    whitespace_count = 0\n",
    "    for char in input_string:\n",
    "        if char.isupper():\n",
    "            uppercase_count += 1\n",
    "        elif char.islower():\n",
    "            lowercase_count += 1\n",
    "        elif char.isdigit():\n",
    "            digit_count += 1\n",
    "        elif char.isspace():\n",
    "            whitespace_count += 1\n",
    "    return uppercase_count, lowercase_count, digit_count, whitespace_count\n",
    "user_input = input(\"Enter a string: \") \n",
    "uppercase, lowercase, digits, whitespace = count_characters(user_input)\n",
    "print(f\"Number of uppercase letters: {uppercase}\")\n",
    "print(f\"Number of lowercase letters: {lowercase}\")\n",
    "print(f\"Number of digits: {digits}\")\n",
    "print(f\"Number of whitespace characters: {whitespace}\")\n"
   ]
  },
  {
   "cell_type": "code",
   "execution_count": 4,
   "id": "a543ee8c-2b2f-4e3d-8e11-0ee8619790d3",
   "metadata": {},
   "outputs": [
    {
     "name": "stdin",
     "output_type": "stream",
     "text": [
      "Enter a string:  knki\n"
     ]
    },
    {
     "name": "stdout",
     "output_type": "stream",
     "text": [
      "Modified string: inkk\n"
     ]
    }
   ],
   "source": [
    "def swap_first_last(s):\n",
    "    if len(s) < 2:\n",
    "        return s \n",
    "    return s[-1] + s[1:-1] + s[0]\n",
    "user_input = input(\"Enter a string: \")\n",
    "\n",
    "# Swap first and last characters and display the result\n",
    "new_string = swap_first_last(user_input)\n",
    "print(\"Modified string:\", new_string)"
   ]
  },
  {
   "cell_type": "code",
   "execution_count": 7,
   "id": "cab40153-fa07-4d3b-ba02-6f6a8ada25f9",
   "metadata": {},
   "outputs": [
    {
     "name": "stdin",
     "output_type": "stream",
     "text": [
      "Enter a string:  exam\n"
     ]
    },
    {
     "name": "stdout",
     "output_type": "stream",
     "text": [
      "Reversed String: maxe\n"
     ]
    }
   ],
   "source": [
    "user_input = input(\"Enter a string: \")\n",
    "\n",
    "reversed_string = user_input[::-1]\n",
    "\n",
    "print(\"Reversed String:\", reversed_string)"
   ]
  },
  {
   "cell_type": "code",
   "execution_count": 13,
   "id": "b732f7e2-4d67-45f7-bf15-35160167a85e",
   "metadata": {},
   "outputs": [
    {
     "name": "stdin",
     "output_type": "stream",
     "text": [
      "Enter a string:  examination 2021\n"
     ]
    },
    {
     "name": "stdout",
     "output_type": "stream",
     "text": [
      "Shifted string: xamination 2021e\n"
     ]
    }
   ],
   "source": [
    "user_input = input(\"Enter a string: \")\n",
    "if len(user_input) > 0:\n",
    "    # Shift characters one position to the left\n",
    "    shifted_string = user_input[1:] + user_input[0]\n",
    "    print(\"Shifted string:\", shifted_string)\n",
    "else:\n",
    "    print(\"Please enter a non-empty string.\")"
   ]
  },
  {
   "cell_type": "code",
   "execution_count": 30,
   "id": "5144e7cb-286b-4576-a590-88c2daee6466",
   "metadata": {},
   "outputs": [
    {
     "name": "stdin",
     "output_type": "stream",
     "text": [
      "Enter your full name (First Middle Last):  MUHAMMAD ARIF ATTARI\n"
     ]
    },
    {
     "name": "stdout",
     "output_type": "stream",
     "text": [
      "Initials: M A A\n"
     ]
    }
   ],
   "source": [
    "user_input = input(\"Enter your full name (First Middle Last): \")\n",
    "\n",
    "initials = \"\"\n",
    "\n",
    "if len(user_input) > 0:\n",
    "    initials += user_input[0] + \" \"  \n",
    "    \n",
    "    for i in range(1, len(user_input)):\n",
    "        if user_input[i] == \" \":\n",
    "            initials += user_input[i + 1] + \" \" \n",
    "\n",
    "    print(\"Initials:\", initials.strip())\n",
    "else:\n",
    "    print(\"Please enter a valid name.\")\n"
   ]
  },
  {
   "cell_type": "code",
   "execution_count": 38,
   "id": "567286fd-60ed-46cd-85e7-51eea2115ff8",
   "metadata": {},
   "outputs": [
    {
     "name": "stdin",
     "output_type": "stream",
     "text": [
      "Enter a string:  DAD\n"
     ]
    },
    {
     "name": "stdout",
     "output_type": "stream",
     "text": [
      "The string is a palindrome.\n"
     ]
    }
   ],
   "source": [
    "user_input = input(\"Enter a string: \")\n",
    "\n",
    "is_palindrome = True\n",
    "length = len(user_input)\n",
    "\n",
    "for i in range(length // 2):\n",
    "    if user_input[i] != user_input[length - i - 1]:\n",
    "        is_palindrome = False\n",
    "        break\n",
    "if is_palindrome:\n",
    "    print(\"The string is a palindrome.\")\n",
    "else:\n",
    "    print(\"The string is not a palindrome.\")\n"
   ]
  },
  {
   "cell_type": "code",
   "execution_count": 39,
   "id": "feddc7e2-13b9-49d7-81a6-234e940587c7",
   "metadata": {},
   "outputs": [
    {
     "name": "stdout",
     "output_type": "stream",
     "text": [
      "SHIFT\n",
      "HIFTS\n",
      "IFTSH\n",
      "FTSHI\n",
      "TSHIF\n"
     ]
    }
   ],
   "source": [
    "word = \"SHIFT\"\n",
    "length = len(word)\n",
    "\n",
    "for i in range(length):\n",
    "    print(word[i:] + word[:i])"
   ]
  },
  {
   "cell_type": "code",
   "execution_count": 49,
   "id": "23d3b9fa-7e4d-4fab-a73a-1e09635b6875",
   "metadata": {},
   "outputs": [
    {
     "name": "stdin",
     "output_type": "stream",
     "text": [
      "Enter a password:  Karachi786\n"
     ]
    },
    {
     "name": "stdout",
     "output_type": "stream",
     "text": [
      "Password is valid.\n"
     ]
    }
   ],
   "source": [
    "def is_valid_password(password):\n",
    "    # Check length\n",
    "    if len(password) < 8:\n",
    "        return \"Password must be at least 8 characters long.\"\n",
    "    # Check for at least one uppercase letter\n",
    "    if not any(char.isupper() for char in password):\n",
    "        return \"Password must contain at least one uppercase letter.\"\n",
    "    # Check for at least one lowercase letter\n",
    "    if not any(char.islower() for char in password):\n",
    "        return \"Password must contain at least one lowercase letter.\"\n",
    "    # Check for at least one digit\n",
    "    if not any(char.isdigit() for char in password):\n",
    "        return \"Password must contain at least one digit.\"\n",
    "    return \"Password is valid.\"\n",
    "\n",
    "# Accept input from the user\n",
    "password = input(\"Enter a password: \")\n",
    "\n",
    "# Validate password\n",
    "result = is_valid_password(password)\n",
    "print(result)\n"
   ]
  },
  {
   "cell_type": "code",
   "execution_count": null,
   "id": "9aaf02c6-8f05-4ea6-9cbe-64efa870160c",
   "metadata": {},
   "outputs": [],
   "source": []
  }
 ],
 "metadata": {
  "kernelspec": {
   "display_name": "Python 3 (ipykernel)",
   "language": "python",
   "name": "python3"
  },
  "language_info": {
   "codemirror_mode": {
    "name": "ipython",
    "version": 3
   },
   "file_extension": ".py",
   "mimetype": "text/x-python",
   "name": "python",
   "nbconvert_exporter": "python",
   "pygments_lexer": "ipython3",
   "version": "3.12.7"
  }
 },
 "nbformat": 4,
 "nbformat_minor": 5
}
