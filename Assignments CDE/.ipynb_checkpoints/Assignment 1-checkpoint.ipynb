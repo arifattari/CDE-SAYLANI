{
 "cells": [
  {
   "cell_type": "markdown",
   "id": "9bfebf52-c149-445e-b088-e1d608de9793",
   "metadata": {},
   "source": [
    "# Part -1 Python Basics (Variables)"
   ]
  },
  {
   "cell_type": "code",
   "execution_count": 3,
   "id": "9e77bfb3-8d58-4abf-9598-a6fa9f30a8d7",
   "metadata": {},
   "outputs": [
    {
     "name": "stdout",
     "output_type": "stream",
     "text": [
      "Muhammad Arif\n"
     ]
    }
   ],
   "source": [
    "name = \"Muhammad Arif\"\n",
    "print(name)"
   ]
  },
  {
   "cell_type": "code",
   "execution_count": 7,
   "id": "16beb24e-6e02-4dcc-8dbe-bffeaa2affce",
   "metadata": {},
   "outputs": [
    {
     "name": "stdout",
     "output_type": "stream",
     "text": [
      "Muhammad javed\n"
     ]
    }
   ],
   "source": [
    "father_name = \"Muhammad javed\"\n",
    "print(father_name)"
   ]
  },
  {
   "cell_type": "code",
   "execution_count": 1,
   "id": "0a382cdf-dc8d-4087-865f-663c21973b30",
   "metadata": {},
   "outputs": [
    {
     "name": "stdout",
     "output_type": "stream",
     "text": [
      "My name is Muhammad Arif, and my education level is Inter.\n",
      "I have work experience as Accountant with 3 years of experience.\n",
      "My skills include MS Office, teaching, accounting, and more..\n"
     ]
    }
   ],
   "source": [
    "name = \"Muhammad Arif\"\n",
    "education = \"Inter\"\n",
    "work_experience = \"Accountant with 3 years of experience\"\n",
    "skills = \"MS Office, teaching, accounting, and more.\"\n",
    "\n",
    "print(f\"My name is {name}, and my education level is {education}.\")\n",
    "print(f\"I have work experience as {work_experience}.\")\n",
    "print(f\"My skills include {skills}.\")\n"
   ]
  },
  {
   "cell_type": "code",
   "execution_count": 50,
   "id": "faf9cda6-16db-4aec-93dd-dd86ca2feee7",
   "metadata": {},
   "outputs": [],
   "source": [
    "a = 50\n",
    "b = 2"
   ]
  },
  {
   "cell_type": "code",
   "execution_count": 22,
   "id": "5d98b441-0ba5-4036-b268-bb9948cfbff9",
   "metadata": {},
   "outputs": [
    {
     "name": "stdout",
     "output_type": "stream",
     "text": [
      "52\n",
      "48\n",
      "100\n",
      "25.0\n",
      "25\n",
      "2500\n",
      "0\n"
     ]
    }
   ],
   "source": [
    "print(a + b)\n",
    "print(a - b)\n",
    "print(a * b)\n",
    "print(a / b)\n",
    "print(a // b)\n",
    "print(a ** b)\n",
    "print(a % b)"
   ]
  },
  {
   "cell_type": "code",
   "execution_count": 51,
   "id": "ccef4ee9-715d-4735-9ad4-7912964ce88e",
   "metadata": {},
   "outputs": [
    {
     "name": "stdout",
     "output_type": "stream",
     "text": [
      "True\n",
      "False\n",
      "False\n",
      "True\n",
      "True\n",
      "False\n"
     ]
    }
   ],
   "source": [
    "print(a > b)\n",
    "print(a < b)\n",
    "print(a == b)\n",
    "print(a != b)\n",
    "print(a >= b)\n",
    "print(a <= b)"
   ]
  },
  {
   "cell_type": "code",
   "execution_count": 88,
   "id": "89fbb4cd-87f4-494f-98a3-726f233d7ee4",
   "metadata": {},
   "outputs": [],
   "source": [
    "x = \"true\"\n",
    "y = \"false\""
   ]
  },
  {
   "cell_type": "code",
   "execution_count": 89,
   "id": "fcf57396-dedb-472b-8cff-b2c56d4e023e",
   "metadata": {},
   "outputs": [
    {
     "name": "stdout",
     "output_type": "stream",
     "text": [
      "true\n",
      "false\n"
     ]
    }
   ],
   "source": [
    "print(x or y)\n",
    "print(x and y)"
   ]
  },
  {
   "cell_type": "code",
   "execution_count": 90,
   "id": "4f8cf932-0ec0-4cf3-aca2-fae153700f6a",
   "metadata": {},
   "outputs": [],
   "source": [
    "english_marks = 85\n",
    "islamiat_marks = 90\n",
    "maths_marks = 95\n",
    "\n",
    "total_marks = 300\n",
    "\n",
    "obtained_marks = english_marks + islamiat_marks + maths_marks\n",
    "percentage = (obtained_marks / total_marks) * 100\n"
   ]
  },
  {
   "cell_type": "code",
   "execution_count": 93,
   "id": "ede66699-19c6-430e-b300-090bb6cd3e91",
   "metadata": {},
   "outputs": [
    {
     "name": "stdout",
     "output_type": "stream",
     "text": [
      "270\n",
      "90.0\n"
     ]
    }
   ],
   "source": [
    "print(obtained_marks)\n",
    "print(percentage)"
   ]
  },
  {
   "cell_type": "markdown",
   "id": "7272ca4d-4405-44cc-9a81-7decb4c330a9",
   "metadata": {},
   "source": [
    "# Part -2 Python Basics (Conditional Statements)"
   ]
  },
  {
   "cell_type": "code",
   "execution_count": 17,
   "id": "dd26e708-a040-490d-9982-29ca97143718",
   "metadata": {},
   "outputs": [
    {
     "name": "stdin",
     "output_type": "stream",
     "text": [
      "Enter your salary:  38000\n",
      "Enter your years of service:  2\n"
     ]
    },
    {
     "name": "stdout",
     "output_type": "stream",
     "text": [
      "You are not eligible for a bonus.\n"
     ]
    }
   ],
   "source": [
    "salary = int(input(\"Enter your salary: \"))\n",
    "years_of_service = int(input(\"Enter your years of service: \"))\n",
    "\n",
    "if years_of_service > 5:\n",
    "    bonus = salary * 0.05\n",
    "    print(f\"Your bonus amount is: {bonus}\")\n",
    "else:\n",
    "\n",
    "    print(\"You are not eligible for a bonus.\")"
   ]
  },
  {
   "cell_type": "code",
   "execution_count": 8,
   "id": "c7d44df3-1838-4ea5-94cb-a7e61fed788b",
   "metadata": {},
   "outputs": [
    {
     "name": "stdin",
     "output_type": "stream",
     "text": [
      "Enter your age:  23\n"
     ]
    },
    {
     "name": "stdout",
     "output_type": "stream",
     "text": [
      "You are eligible to vote.\n"
     ]
    }
   ],
   "source": [
    "age = int(input(\"Enter your age: \"))\n",
    "\n",
    "if age > 17:\n",
    "    print(\"You are eligible to vote.\")\n",
    "else:\n",
    "    print(\"You are not eligible to vote.\")"
   ]
  },
  {
   "cell_type": "code",
   "execution_count": 31,
   "id": "e2c93dbb-ec83-4c29-b927-88d474a97f91",
   "metadata": {},
   "outputs": [
    {
     "name": "stdin",
     "output_type": "stream",
     "text": [
      "Add a number:  2\n"
     ]
    },
    {
     "name": "stdout",
     "output_type": "stream",
     "text": [
      "2 is odd.\n"
     ]
    }
   ],
   "source": [
    "add_number = int(input(\"Add a number: \"))\n",
    "\n",
    "if add_number % 6 == 9:\n",
    "    print(f\"{add_number} is even.\")\n",
    "else:\n",
    "    print(f\"{add_number} is odd.\")"
   ]
  },
  {
   "cell_type": "code",
   "execution_count": 38,
   "id": "f8f9d5e4-572e-4e37-9678-a980f6251b93",
   "metadata": {},
   "outputs": [
    {
     "name": "stdin",
     "output_type": "stream",
     "text": [
      "Enter a number to check divisibility by 7:  13251\n"
     ]
    },
    {
     "name": "stdout",
     "output_type": "stream",
     "text": [
      "13251 is divisible by 7.\n"
     ]
    }
   ],
   "source": [
    "div_number = int(input(\"Enter a number to check divisibility by 7: \"))\n",
    "if div_number % 7 == 0:\n",
    "    print(f\"{div_number} is divisible by 7.\")\n",
    "else:\n",
    "    print(f\"{div_number} is not divisible by 7.\")\n",
    "    "
   ]
  },
  {
   "cell_type": "code",
   "execution_count": 40,
   "id": "bd7748d1-bc12-4d43-9e44-bdb1b55d463c",
   "metadata": {},
   "outputs": [
    {
     "name": "stdin",
     "output_type": "stream",
     "text": [
      "Enter a number to check if it's a multiple of 5:  3\n"
     ]
    },
    {
     "name": "stdout",
     "output_type": "stream",
     "text": [
      "Bye\n"
     ]
    }
   ],
   "source": [
    "multiple_five = int(input(\"Enter a number to check if it's a multiple of 5: \"))\n",
    "if multiple_five % 5 == 0:\n",
    "    print(\"Hello\")\n",
    "else:\n",
    "    print(\"Bye\")"
   ]
  },
  {
   "cell_type": "code",
   "execution_count": 56,
   "id": "3d4a5939-4281-49e6-9f31-994b011fe958",
   "metadata": {},
   "outputs": [
    {
     "name": "stdin",
     "output_type": "stream",
     "text": [
      "Enter a number to find its last digit:  42\n"
     ]
    },
    {
     "name": "stdout",
     "output_type": "stream",
     "text": [
      "The last digit of 42 is 2.\n"
     ]
    }
   ],
   "source": [
    "last_digit_number = int(input(\"Enter a number to find its last digit: \"))\n",
    "last_digit = last_digit_number % 10\n",
    "print(f\"The last digit of {last_digit_number} is {last_digit}.\")\n"
   ]
  },
  {
   "cell_type": "markdown",
   "id": "a27c03e5-6689-4c37-aa65-f126471b7ce1",
   "metadata": {},
   "source": [
    "### Take values of length and breadth of a rectangle from user and print if it is square or rectangle"
   ]
  },
  {
   "cell_type": "code",
   "execution_count": 1,
   "id": "74df8597-43c9-4193-9309-791f0b302660",
   "metadata": {},
   "outputs": [
    {
     "name": "stdin",
     "output_type": "stream",
     "text": [
      "Enter the length of the shape:  6\n",
      "Enter the breadth of the shape:  9\n"
     ]
    },
    {
     "name": "stdout",
     "output_type": "stream",
     "text": [
      "It is a rectangle.\n"
     ]
    }
   ],
   "source": [
    "length = float(input(\"Enter the length of the shape: \"))\n",
    "breadth = float(input(\"Enter the breadth of the shape: \"))\n",
    "\n",
    "if length == breadth:\n",
    "    print(\"It is a square.\")\n",
    "else:\n",
    "    print(\"It is a rectangle.\")"
   ]
  },
  {
   "cell_type": "markdown",
   "id": "a7c050e7-de6f-4bd5-95e0-24cb1948e8f9",
   "metadata": {},
   "source": [
    "### Take two int values from user and print greatest among them."
   ]
  },
  {
   "cell_type": "code",
   "execution_count": 3,
   "id": "859acc71-4cb0-42b2-a383-659fc31ec5ee",
   "metadata": {},
   "outputs": [
    {
     "name": "stdin",
     "output_type": "stream",
     "text": [
      "Enter the first number:  2\n",
      "Enter the second number:  4\n"
     ]
    },
    {
     "name": "stdout",
     "output_type": "stream",
     "text": [
      "The greatest number is 4.\n"
     ]
    }
   ],
   "source": [
    "num1 = int(input(\"Enter the first number: \"))\n",
    "num2 = int(input(\"Enter the second number: \"))\n",
    "\n",
    "if num1 > num2:\n",
    "    print(f\"The greatest number is {num1}.\")\n",
    "elif num2 > num1:\n",
    "    print(f\"The greatest number is {num2}.\")\n",
    "else:\n",
    "    print(\"Both numbers are equal.\")\n"
   ]
  },
  {
   "cell_type": "markdown",
   "id": "26623970-2e94-417d-a8a3-a4c78f3a06e4",
   "metadata": {},
   "source": [
    "### A shop will give discount of 10% if the cost of purchased quantity is more than 1000.\n",
    "##### Ask user for quantity\n",
    "##### Suppose, one unit will cost 100.\n",
    "##### Judge and print total cost for user."
   ]
  },
  {
   "cell_type": "code",
   "execution_count": 13,
   "id": "e79f5381-025d-4e58-a53b-54b909cb4b17",
   "metadata": {},
   "outputs": [
    {
     "name": "stdin",
     "output_type": "stream",
     "text": [
      "Enter the quantity of items:  9\n"
     ]
    },
    {
     "name": "stdout",
     "output_type": "stream",
     "text": [
      "900\n"
     ]
    }
   ],
   "source": [
    "quantity = int(input(\"Enter the quantity of items: \"))\n",
    "cost = quantity * 100\n",
    "if cost > 1000:\n",
    "    discount = cost * 0.10\n",
    "    total_cost = cost - discount\n",
    "else:\n",
    "    total_cost = cost\n",
    "print(total_cost)"
   ]
  },
  {
   "cell_type": "code",
   "execution_count": 1,
   "id": "cd24431e-ce1e-4e8f-998e-d858afd8e42c",
   "metadata": {},
   "outputs": [
    {
     "name": "stdin",
     "output_type": "stream",
     "text": [
      "Enter your marks:  95\n"
     ]
    },
    {
     "name": "stdout",
     "output_type": "stream",
     "text": [
      "Your grade is: A\n"
     ]
    }
   ],
   "source": [
    "marks = int(input(\"Enter your marks: \"))\n",
    "if marks < 25:\n",
    "    grade = \"F\"\n",
    "elif 25 <= marks < 45:\n",
    "    grade = \"E\"\n",
    "elif 45 <= marks < 50:\n",
    "    grade = \"D\"\n",
    "elif 50 <= marks < 60:\n",
    "    grade = \"C\"\n",
    "elif 60 <= marks < 80:\n",
    "    grade = \"B\"\n",
    "else:\n",
    "    grade = \"A\"\n",
    "print(f\"Your grade is: {grade}\")"
   ]
  },
  {
   "cell_type": "code",
   "execution_count": 28,
   "id": "3b299c38-9508-45be-aee2-c700e2972eaf",
   "metadata": {},
   "outputs": [
    {
     "name": "stdin",
     "output_type": "stream",
     "text": [
      "Enter the number of classes held:  30\n",
      "Enter the number of classes attended:  20\n"
     ]
    },
    {
     "name": "stdout",
     "output_type": "stream",
     "text": [
      "Attendance Percentage: 66.67%\n"
     ]
    },
    {
     "name": "stdin",
     "output_type": "stream",
     "text": [
      "Do you have a medical cause? (Y/N):  Y\n"
     ]
    },
    {
     "name": "stdout",
     "output_type": "stream",
     "text": [
      "You are allowed to sit in the exam due to medical cause.\n"
     ]
    }
   ],
   "source": [
    "classes_held = int(input(\"Enter the number of classes held: \"))\n",
    "classes_attended = int(input(\"Enter the number of classes attended: \"))\n",
    "\n",
    "attendance_percentage = (classes_attended / classes_held) * 100\n",
    "print(f\"Attendance Percentage: {attendance_percentage:.2f}%\")\n",
    "\n",
    "if attendance_percentage >= 75:\n",
    "    print(\"You are allowed to sit in the exam.\")\n",
    "else:\n",
    "    medical_cause = input(\"Do you have a medical cause? (Y/N): \").strip().upper()\n",
    "    if medical_cause == \"Y\":\n",
    "        print(\"You are allowed to sit in the exam due to medical cause.\")\n",
    "    else:\n",
    "        print(\"You are not allowed to sit in the exam.\")"
   ]
  },
  {
   "cell_type": "code",
   "execution_count": 35,
   "id": "eb78b4ef-cee3-4157-b59e-a5c9dd949c57",
   "metadata": {},
   "outputs": [
    {
     "name": "stdin",
     "output_type": "stream",
     "text": [
      "Enter a year to check if it's a leap year:  2202\n"
     ]
    },
    {
     "name": "stdout",
     "output_type": "stream",
     "text": [
      "2202 is not a leap year.\n"
     ]
    }
   ],
   "source": [
    "year = int(input(\"Enter a year to check if it's a leap year: \"))\n",
    "if (year % 4 == 0 and year % 100 != 0) or (year % 400 == 0):\n",
    "    print(f\"{year} is a leap year.\")\n",
    "else:\n",
    "    print(f\"{year} is not a leap year.\")"
   ]
  },
  {
   "cell_type": "code",
   "execution_count": 41,
   "id": "ae7b99e0-6f95-461e-bed6-650e8338aa16",
   "metadata": {},
   "outputs": [
    {
     "name": "stdin",
     "output_type": "stream",
     "text": [
      "Enter your age:  1\n",
      "Enter your gender (M/F):  M\n",
      "Enter marital status (Y/N):  N\n"
     ]
    },
    {
     "name": "stdout",
     "output_type": "stream",
     "text": [
      "ERROR\n"
     ]
    }
   ],
   "source": [
    "age = int(input(\"Enter your age: \"))\n",
    "gender = input(\"Enter your gender (M/F): \")\n",
    "marital_status = input(\"Enter marital status (Y/N): \")\n",
    "\n",
    "if gender == \"F\":\n",
    "    print(\"You will work only in urban areas.\")\n",
    "elif gender == \"M\":\n",
    "    if 20 <= age <= 40:\n",
    "        print(\"You may work anywhere.\")\n",
    "    elif 40 < age <= 60:\n",
    "        print(\"You will work only in urban areas.\")\n",
    "    else:\n",
    "        print(\"ERROR\")\n",
    "else:\n",
    "    print(\"ERROR\")\n"
   ]
  },
  {
   "cell_type": "code",
   "execution_count": 42,
   "id": "c93ce1bb-4f43-41ff-8ec3-754d69b8460c",
   "metadata": {},
   "outputs": [
    {
     "name": "stdin",
     "output_type": "stream",
     "text": [
      "Enter the number of electricity units used:  135\n"
     ]
    },
    {
     "name": "stdout",
     "output_type": "stream",
     "text": [
      "Total electricity bill amount is: Rs.175\n"
     ]
    }
   ],
   "source": [
    "units = int(input(\"Enter the number of electricity units used: \"))\n",
    "if units <= 100:\n",
    "    bill = 0\n",
    "elif units <= 300:\n",
    "    bill = (units - 100) * 5\n",
    "else:\n",
    "    bill = (200 * 5) + (units - 300) * 10\n",
    "\n",
    "print(f\"Total electricity bill amount is: Rs.{bill}\")"
   ]
  },
  {
   "cell_type": "code",
   "execution_count": 43,
   "id": "372cf5ca-438d-40c3-aa5b-94d6c0101b76",
   "metadata": {},
   "outputs": [
    {
     "name": "stdin",
     "output_type": "stream",
     "text": [
      "Enter the age of the first person:  20\n",
      "Enter the age of the second person:  40\n",
      "Enter the age of the third person:  60\n"
     ]
    },
    {
     "name": "stdout",
     "output_type": "stream",
     "text": [
      "The oldest person is 60 years old.\n",
      "The youngest person is 20 years old.\n"
     ]
    }
   ],
   "source": [
    "age1 = int(input(\"Enter the age of the first person: \"))\n",
    "age2 = int(input(\"Enter the age of the second person: \"))\n",
    "age3 = int(input(\"Enter the age of the third person: \"))\n",
    "\n",
    "oldest = max(age1, age2, age3)\n",
    "youngest = min(age1, age2, age3)\n",
    "\n",
    "print(f\"The oldest person is {oldest} years old.\")\n",
    "print(f\"The youngest person is {youngest} years old.\")"
   ]
  },
  {
   "cell_type": "code",
   "execution_count": null,
   "id": "854c2c04-8cdd-4ae3-b491-27824e0793bb",
   "metadata": {},
   "outputs": [],
   "source": []
  }
 ],
 "metadata": {
  "kernelspec": {
   "display_name": "Python 3 (ipykernel)",
   "language": "python",
   "name": "python3"
  },
  "language_info": {
   "codemirror_mode": {
    "name": "ipython",
    "version": 3
   },
   "file_extension": ".py",
   "mimetype": "text/x-python",
   "name": "python",
   "nbconvert_exporter": "python",
   "pygments_lexer": "ipython3",
   "version": "3.12.7"
  }
 },
 "nbformat": 4,
 "nbformat_minor": 5
}
