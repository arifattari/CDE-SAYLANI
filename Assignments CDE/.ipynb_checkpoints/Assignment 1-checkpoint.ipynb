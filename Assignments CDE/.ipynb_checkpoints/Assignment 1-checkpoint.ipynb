{
 "cells": [
  {
   "cell_type": "markdown",
   "id": "9bfebf52-c149-445e-b088-e1d608de9793",
   "metadata": {},
   "source": [
    "# Part -1 Python Basics (Variables)"
   ]
  },
  {
   "cell_type": "markdown",
   "id": "825a9480-7721-4809-ba3a-27d3bcd01013",
   "metadata": {},
   "source": [
    "##### Print Your Name with your Father name and Date of birth using suitable escape sequence charactor\n"
   ]
  },
  {
   "cell_type": "code",
   "execution_count": 3,
   "id": "9e77bfb3-8d58-4abf-9598-a6fa9f30a8d7",
   "metadata": {},
   "outputs": [
    {
     "name": "stdout",
     "output_type": "stream",
     "text": [
      "Muhammad Arif\n"
     ]
    }
   ],
   "source": [
    "name = \"Muhammad Arif\"\n",
    "print(name)"
   ]
  },
  {
   "cell_type": "code",
   "execution_count": 7,
   "id": "16beb24e-6e02-4dcc-8dbe-bffeaa2affce",
   "metadata": {},
   "outputs": [
    {
     "name": "stdout",
     "output_type": "stream",
     "text": [
      "Muhammad javed\n"
     ]
    }
   ],
   "source": [
    "father_name = \"Muhammad javed\"\n",
    "print(father_name)"
   ]
  },
  {
   "cell_type": "markdown",
   "id": "1fdd78cf-4768-441c-a825-06c6f894319c",
   "metadata": {},
   "source": [
    "##### Write your small bio using variables and print it using print function\n"
   ]
  },
  {
   "cell_type": "code",
   "execution_count": 1,
   "id": "0a382cdf-dc8d-4087-865f-663c21973b30",
   "metadata": {},
   "outputs": [
    {
     "name": "stdout",
     "output_type": "stream",
     "text": [
      "My name is Muhammad Arif, and my education level is Inter.\n",
      "I have work experience as Accountant with 3 years of experience.\n",
      "My skills include MS Office, teaching, accounting, and more..\n"
     ]
    }
   ],
   "source": [
    "name = \"Muhammad Arif\"\n",
    "education = \"Inter\"\n",
    "work_experience = \"Accountant with 3 years of experience\"\n",
    "skills = \"MS Office, teaching, accounting, and more.\"\n",
    "\n",
    "print(f\"My name is {name}, and my education level is {education}.\")\n",
    "print(f\"I have work experience as {work_experience}.\")\n",
    "print(f\"My skills include {skills}.\")\n"
   ]
  },
  {
   "cell_type": "markdown",
   "id": "e306face-24d4-4e7c-8c57-f82f0c98ab20",
   "metadata": {},
   "source": [
    "##### Write a program in which use all the operators we can use in Python\n"
   ]
  },
  {
   "cell_type": "code",
   "execution_count": 50,
   "id": "faf9cda6-16db-4aec-93dd-dd86ca2feee7",
   "metadata": {},
   "outputs": [],
   "source": [
    "a = 50\n",
    "b = 2"
   ]
  },
  {
   "cell_type": "code",
   "execution_count": 22,
   "id": "5d98b441-0ba5-4036-b268-bb9948cfbff9",
   "metadata": {},
   "outputs": [
    {
     "name": "stdout",
     "output_type": "stream",
     "text": [
      "52\n",
      "48\n",
      "100\n",
      "25.0\n",
      "25\n",
      "2500\n",
      "0\n"
     ]
    }
   ],
   "source": [
    "print(a + b)\n",
    "print(a - b)\n",
    "print(a * b)\n",
    "print(a / b)\n",
    "print(a // b)\n",
    "print(a ** b)\n",
    "print(a % b)"
   ]
  },
  {
   "cell_type": "code",
   "execution_count": 51,
   "id": "ccef4ee9-715d-4735-9ad4-7912964ce88e",
   "metadata": {},
   "outputs": [
    {
     "name": "stdout",
     "output_type": "stream",
     "text": [
      "True\n",
      "False\n",
      "False\n",
      "True\n",
      "True\n",
      "False\n"
     ]
    }
   ],
   "source": [
    "print(a > b)\n",
    "print(a < b)\n",
    "print(a == b)\n",
    "print(a != b)\n",
    "print(a >= b)\n",
    "print(a <= b)"
   ]
  },
  {
   "cell_type": "code",
   "execution_count": 88,
   "id": "89fbb4cd-87f4-494f-98a3-726f233d7ee4",
   "metadata": {},
   "outputs": [],
   "source": [
    "x = \"true\"\n",
    "y = \"false\""
   ]
  },
  {
   "cell_type": "code",
   "execution_count": 89,
   "id": "fcf57396-dedb-472b-8cff-b2c56d4e023e",
   "metadata": {},
   "outputs": [
    {
     "name": "stdout",
     "output_type": "stream",
     "text": [
      "true\n",
      "false\n"
     ]
    }
   ],
   "source": [
    "print(x or y)\n",
    "print(x and y)"
   ]
  },
  {
   "cell_type": "markdown",
   "id": "f43a6e81-d095-4c08-9473-66eb4bdcb393",
   "metadata": {},
   "source": [
    "##### Completes the following steps of small task:\n",
    "Mention Marks of English , Islamiat and Maths out of 100 in 3 different variables\n",
    "Mention Variable of Total Marks and assign 300 to it\n",
    "Calculate Percentage"
   ]
  },
  {
   "cell_type": "code",
   "execution_count": 5,
   "id": "4f8cf932-0ec0-4cf3-aca2-fae153700f6a",
   "metadata": {},
   "outputs": [],
   "source": [
    "english_marks = 85\n",
    "islamiat_marks = 90\n",
    "maths_marks = 95\n",
    "\n",
    "total_marks = 300\n",
    "\n",
    "obtained_marks = english_marks + islamiat_marks + maths_marks\n",
    "percentage = (obtained_marks / total_marks) * 100\n"
   ]
  },
  {
   "cell_type": "code",
   "execution_count": 6,
   "id": "ede66699-19c6-430e-b300-090bb6cd3e91",
   "metadata": {},
   "outputs": [
    {
     "name": "stdout",
     "output_type": "stream",
     "text": [
      "270\n",
      "90.0%\n"
     ]
    }
   ],
   "source": [
    "print(obtained_marks)\n",
    "print(f\"{percentage}%\")"
   ]
  },
  {
   "cell_type": "code",
   "execution_count": null,
   "id": "502b1937-cb20-4808-81c5-3fd552a1719a",
   "metadata": {},
   "outputs": [],
   "source": []
  }
 ],
 "metadata": {
  "kernelspec": {
   "display_name": "Python 3 (ipykernel)",
   "language": "python",
   "name": "python3"
  },
  "language_info": {
   "codemirror_mode": {
    "name": "ipython",
    "version": 3
   },
   "file_extension": ".py",
   "mimetype": "text/x-python",
   "name": "python",
   "nbconvert_exporter": "python",
   "pygments_lexer": "ipython3",
   "version": "3.12.7"
  }
 },
 "nbformat": 4,
 "nbformat_minor": 5
}
