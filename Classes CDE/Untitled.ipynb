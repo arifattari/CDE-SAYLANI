{
 "cells": [
  {
   "cell_type": "markdown",
   "id": "6d659549-685c-4dc3-9de2-f5dd05b78901",
   "metadata": {},
   "source": [
    "### Recap"
   ]
  },
  {
   "cell_type": "code",
   "execution_count": 14,
   "id": "84dac7f0-7512-4057-8607-733b5e0e6ee1",
   "metadata": {},
   "outputs": [],
   "source": [
    "cities = ['Karachi', 'Islamabad', 'Lahore', 'Queita', 'Multan', 'Peshawar']"
   ]
  },
  {
   "cell_type": "code",
   "execution_count": 15,
   "id": "ed96352d-2d42-490b-92d2-868f6a084742",
   "metadata": {},
   "outputs": [
    {
     "data": {
      "text/plain": [
       "['Karachi', 'Islamabad', 'Lahore', 'Queita', 'Multan', 'Peshawar']"
      ]
     },
     "execution_count": 15,
     "metadata": {},
     "output_type": "execute_result"
    }
   ],
   "source": [
    "cities"
   ]
  },
  {
   "cell_type": "markdown",
   "id": "2497d82e-6129-4fb7-856f-9e31ce677924",
   "metadata": {},
   "source": [
    "### Set"
   ]
  },
  {
   "cell_type": "code",
   "execution_count": 16,
   "id": "a7ca29e3-742f-4fa4-8d1f-dc4174d7ecb9",
   "metadata": {},
   "outputs": [],
   "source": [
    "cities_set = set(cities)"
   ]
  },
  {
   "cell_type": "code",
   "execution_count": 17,
   "id": "8096d314-963f-4b83-a865-abbee18ef963",
   "metadata": {},
   "outputs": [
    {
     "data": {
      "text/plain": [
       "{'Islamabad', 'Karachi', 'Lahore', 'Multan', 'Peshawar', 'Queita'}"
      ]
     },
     "execution_count": 17,
     "metadata": {},
     "output_type": "execute_result"
    }
   ],
   "source": [
    "cities_set"
   ]
  },
  {
   "cell_type": "markdown",
   "id": "db456a9b-fb70-4ff0-b346-acf9d94f9a2a",
   "metadata": {},
   "source": [
    "### Loops (for)"
   ]
  },
  {
   "cell_type": "code",
   "execution_count": 18,
   "id": "eff5b7f5-706e-48a6-94cd-40f509293322",
   "metadata": {},
   "outputs": [
    {
     "name": "stdout",
     "output_type": "stream",
     "text": [
      "Karachi\n",
      "Islamabad\n",
      "Lahore\n",
      "Queita\n",
      "Multan\n",
      "Peshawar\n"
     ]
    }
   ],
   "source": [
    "for temp in cities:\n",
    "    print(temp)"
   ]
  },
  {
   "cell_type": "code",
   "execution_count": 21,
   "id": "8ef87737-2526-4b61-82ec-2c4aaac75b70",
   "metadata": {},
   "outputs": [
    {
     "name": "stdout",
     "output_type": "stream",
     "text": [
      "0\n",
      "1\n",
      "2\n",
      "3\n",
      "4\n",
      "5\n",
      "6\n",
      "7\n",
      "8\n",
      "9\n",
      "10\n"
     ]
    }
   ],
   "source": [
    "for temp in [0,1,2,3,4,5,6,7,8,9,10]:\n",
    "    print(temp)"
   ]
  },
  {
   "cell_type": "code",
   "execution_count": 23,
   "id": "7d330e84-ff1f-4da2-81a8-0c035d9b3564",
   "metadata": {},
   "outputs": [
    {
     "data": {
      "text/plain": [
       "6"
      ]
     },
     "execution_count": 23,
     "metadata": {},
     "output_type": "execute_result"
    }
   ],
   "source": [
    "len(cities)"
   ]
  },
  {
   "cell_type": "code",
   "execution_count": 27,
   "id": "1449f07d-eb19-4958-906c-1b8bb9b61175",
   "metadata": {},
   "outputs": [
    {
     "name": "stdout",
     "output_type": "stream",
     "text": [
      "0\n",
      "1\n",
      "2\n",
      "3\n",
      "4\n",
      "5\n"
     ]
    }
   ],
   "source": [
    "for temp in range(len(cities)):\n",
    "    print(temp)"
   ]
  },
  {
   "cell_type": "code",
   "execution_count": 31,
   "id": "14dc5fc0-75d8-4e87-a977-40cad01bea45",
   "metadata": {},
   "outputs": [
    {
     "name": "stdout",
     "output_type": "stream",
     "text": [
      "2\n",
      "4\n",
      "6\n",
      "8\n",
      "10\n"
     ]
    }
   ],
   "source": [
    "for temp in range(1, 11):\n",
    "    if temp%2==0:\n",
    "        print(temp)"
   ]
  },
  {
   "cell_type": "code",
   "execution_count": 50,
   "id": "9204ead4-80b6-492c-86b1-b6ae9e08af23",
   "metadata": {},
   "outputs": [
    {
     "ename": "SyntaxError",
     "evalue": "'(' was never closed (673543002.py, line 3)",
     "output_type": "error",
     "traceback": [
      "\u001b[1;36m  Cell \u001b[1;32mIn[50], line 3\u001b[1;36m\u001b[0m\n\u001b[1;33m    value = (int(input(\"Enter a number: \"))\u001b[0m\n\u001b[1;37m            ^\u001b[0m\n\u001b[1;31mSyntaxError\u001b[0m\u001b[1;31m:\u001b[0m '(' was never closed\n"
     ]
    }
   ],
   "source": [
    "total=0\n",
    "for temp in range(5):\n",
    "    value = (int(input(\"Enter a number: \"))\n",
    "    total += value\n",
    "print(f\"The final running total is: {total}\")\n",
    "        "
   ]
  },
  {
   "cell_type": "code",
   "execution_count": 51,
   "id": "b1193be2-a2fc-44f9-b4a9-06690a7bdfe9",
   "metadata": {},
   "outputs": [
    {
     "data": {
      "text/plain": [
       "'arif'"
      ]
     },
     "execution_count": 51,
     "metadata": {},
     "output_type": "execute_result"
    }
   ],
   "source": [
    "\"Arif\".lower()"
   ]
  },
  {
   "cell_type": "raw",
   "id": "0ef3b417-5351-4236-aed7-5f5eb28d9c65",
   "metadata": {},
   "source": [
    "\"Arif\".upper()"
   ]
  },
  {
   "cell_type": "code",
   "execution_count": 57,
   "id": "952e901e-ff03-4fb0-a294-49942089dcde",
   "metadata": {},
   "outputs": [
    {
     "name": "stdin",
     "output_type": "stream",
     "text": [
      "Enter a email:  ATTARIARIF901@GMAIL.COM\n"
     ]
    },
    {
     "name": "stdout",
     "output_type": "stream",
     "text": [
      "valid email\n"
     ]
    }
   ],
   "source": [
    "db_email = 'attariarif901@gmail.com'\n",
    "user_email = input(\"Enter a email: \")\n",
    "if user_email.lower() == db_email:\n",
    "    print(\"valid email\")\n",
    "else:\n",
    "    print(\"not valid email\")"
   ]
  },
  {
   "cell_type": "code",
   "execution_count": 58,
   "id": "b7784ab2-f372-4143-9399-015d41ae8702",
   "metadata": {},
   "outputs": [],
   "source": [
    "bio_data_list = ['Muhammad', 'Arif', 15, 10.5]"
   ]
  },
  {
   "cell_type": "code",
   "execution_count": 59,
   "id": "c0997aab-0820-4469-b4cf-4a203b8b6688",
   "metadata": {},
   "outputs": [],
   "source": [
    "# {key : value}"
   ]
  },
  {
   "cell_type": "code",
   "execution_count": 60,
   "id": "7b2e6168-7d47-46c3-9f0d-aa3d587393fa",
   "metadata": {},
   "outputs": [],
   "source": [
    "bio_data_dict = {'first_name': 'Muhammad','last_name': 'Arif', 'age': 15, 'weight': 10.5}"
   ]
  },
  {
   "cell_type": "code",
   "execution_count": 61,
   "id": "0e7952cb-ae9f-4460-b78b-dc6891c52ca1",
   "metadata": {},
   "outputs": [
    {
     "data": {
      "text/plain": [
       "'Muhammad'"
      ]
     },
     "execution_count": 61,
     "metadata": {},
     "output_type": "execute_result"
    }
   ],
   "source": [
    "bio_data_dict ['first_name']"
   ]
  },
  {
   "cell_type": "code",
   "execution_count": 62,
   "id": "75587e1e-e795-45af-a3c7-a0eff9cc2119",
   "metadata": {},
   "outputs": [
    {
     "data": {
      "text/plain": [
       "dict_keys(['first_name', 'last_name', 'age', 'weight'])"
      ]
     },
     "execution_count": 62,
     "metadata": {},
     "output_type": "execute_result"
    }
   ],
   "source": [
    "bio_data_dict.keys()"
   ]
  },
  {
   "cell_type": "code",
   "execution_count": 63,
   "id": "7edaea42-34ee-425a-bb45-6e922dca4918",
   "metadata": {},
   "outputs": [
    {
     "data": {
      "text/plain": [
       "dict_values(['Muhammad', 'Arif', 15, 10.5])"
      ]
     },
     "execution_count": 63,
     "metadata": {},
     "output_type": "execute_result"
    }
   ],
   "source": [
    "bio_data_dict.values()"
   ]
  },
  {
   "cell_type": "code",
   "execution_count": 64,
   "id": "81d68b24-cb2d-4cc9-b984-bad9c1755040",
   "metadata": {},
   "outputs": [
    {
     "data": {
      "text/plain": [
       "dict_items([('first_name', 'Muhammad'), ('last_name', 'Arif'), ('age', 15), ('weight', 10.5)])"
      ]
     },
     "execution_count": 64,
     "metadata": {},
     "output_type": "execute_result"
    }
   ],
   "source": [
    "bio_data_dict.items()"
   ]
  },
  {
   "cell_type": "code",
   "execution_count": 65,
   "id": "b7439c22-1470-440f-b9c9-8b42a330b6bc",
   "metadata": {},
   "outputs": [
    {
     "name": "stdout",
     "output_type": "stream",
     "text": [
      "key first_name have value Muhammad\n",
      "key last_name have value Arif\n",
      "key age have value 15\n",
      "key weight have value 10.5\n"
     ]
    }
   ],
   "source": [
    "for key, value in bio_data_dict.items():\n",
    "    print(f'key {key} have value {value}')"
   ]
  },
  {
   "cell_type": "code",
   "execution_count": null,
   "id": "bfc556e0-cd99-4a30-96b3-c72f7cfe0cb5",
   "metadata": {},
   "outputs": [],
   "source": []
  }
 ],
 "metadata": {
  "kernelspec": {
   "display_name": "Python 3 (ipykernel)",
   "language": "python",
   "name": "python3"
  },
  "language_info": {
   "codemirror_mode": {
    "name": "ipython",
    "version": 3
   },
   "file_extension": ".py",
   "mimetype": "text/x-python",
   "name": "python",
   "nbconvert_exporter": "python",
   "pygments_lexer": "ipython3",
   "version": "3.12.7"
  }
 },
 "nbformat": 4,
 "nbformat_minor": 5
}
