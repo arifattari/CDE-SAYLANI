{
 "cells": [
  {
   "cell_type": "markdown",
   "id": "5d311054-ca7f-40b3-9470-403521bc1b28",
   "metadata": {},
   "source": [
    "#### SHORTCUTS OF JUPITER NOTEBOOK\n",
    "1. Cloud Data Engineering\n",
    "2. Cloud Data Engineering\n",
    "3. Cloud Data Engineering\n",
    "4. Cloud Data Engineering\n"
   ]
  },
  {
   "cell_type": "code",
   "execution_count": 3,
   "id": "2903f7b4-6e9a-48a0-bde0-d609ce61daf9",
   "metadata": {},
   "outputs": [
    {
     "name": "stdout",
     "output_type": "stream",
     "text": [
      "Cloud Data Engineering\n",
      "CDE- b2\n"
     ]
    }
   ],
   "source": [
    "print(\"Cloud Data Engineering\")\n",
    "print(\"CDE- b2\")"
   ]
  },
  {
   "cell_type": "markdown",
   "id": "ac0dea7f-fa16-45ac-b2dd-fb4c5c3b8f1a",
   "metadata": {},
   "source": [
    "### "
   ]
  },
  {
   "cell_type": "code",
   "execution_count": 1,
   "id": "de2295c4-cc84-4d29-91e1-c24f8e5a365b",
   "metadata": {},
   "outputs": [
    {
     "name": "stdout",
     "output_type": "stream",
     "text": [
      "CDE- b2\n"
     ]
    }
   ],
   "source": [
    "print(\"CDE- b2\")"
   ]
  },
  {
   "cell_type": "code",
   "execution_count": 33,
   "id": "3a7ee5b9-08ad-4e73-98a5-0f899857a4f9",
   "metadata": {},
   "outputs": [],
   "source": [
    "name = \"Muhammad Arif\"\n",
    "age = 22\n",
    "weight = 60.5\n",
    "is_present = True"
   ]
  },
  {
   "cell_type": "code",
   "execution_count": 34,
   "id": "92c45fc5-20c8-4da7-b337-96fc3e82bf59",
   "metadata": {},
   "outputs": [
    {
     "name": "stdout",
     "output_type": "stream",
     "text": [
      "Muhammad Arif\n",
      "<class 'str'>\n",
      "22\n",
      "<class 'int'>\n",
      "60.5\n",
      "<class 'float'>\n",
      "True\n",
      "<class 'bool'>\n"
     ]
    }
   ],
   "source": [
    "print(name)\n",
    "print(type(name))\n",
    "print(age)\n",
    "print(type(age))\n",
    "print(weight)\n",
    "print(type(weight))\n",
    "print(is_present)\n",
    "print(type(is_present))"
   ]
  },
  {
   "cell_type": "code",
   "execution_count": 39,
   "id": "a7c089c7-3476-4836-96d4-86dc0b23b646",
   "metadata": {},
   "outputs": [],
   "source": [
    "age += 6"
   ]
  },
  {
   "cell_type": "code",
   "execution_count": 40,
   "id": "c5741bd4-6f3d-435c-aeae-ab9cca7b62b8",
   "metadata": {},
   "outputs": [
    {
     "data": {
      "text/plain": [
       "28"
      ]
     },
     "execution_count": 40,
     "metadata": {},
     "output_type": "execute_result"
    }
   ],
   "source": [
    "age"
   ]
  },
  {
   "cell_type": "code",
   "execution_count": 41,
   "id": "941c56f1-4ddc-4183-8168-ab2da088fff9",
   "metadata": {},
   "outputs": [
    {
     "data": {
      "text/plain": [
       "2"
      ]
     },
     "execution_count": 41,
     "metadata": {},
     "output_type": "execute_result"
    }
   ],
   "source": [
    "8%3"
   ]
  },
  {
   "cell_type": "code",
   "execution_count": 52,
   "id": "181d235d-aca1-4519-b69f-7cf91319886d",
   "metadata": {},
   "outputs": [
    {
     "data": {
      "text/plain": [
       "243"
      ]
     },
     "execution_count": 52,
     "metadata": {},
     "output_type": "execute_result"
    }
   ],
   "source": [
    "3**5"
   ]
  },
  {
   "cell_type": "code",
   "execution_count": 5,
   "id": "86b5f6ec-91ee-4ecf-834b-c8e994dce574",
   "metadata": {},
   "outputs": [],
   "source": [
    "first_name = \"Muhammad\""
   ]
  },
  {
   "cell_type": "code",
   "execution_count": 6,
   "id": "fbad4440-052a-4ce1-902e-e2c22d62e84b",
   "metadata": {},
   "outputs": [],
   "source": [
    "last_name = \"Arif\""
   ]
  },
  {
   "cell_type": "code",
   "execution_count": 15,
   "id": "b6d1c252-0096-4090-9e05-c045433abbec",
   "metadata": {},
   "outputs": [
    {
     "data": {
      "text/plain": [
       "'Muhammad Arif'"
      ]
     },
     "execution_count": 15,
     "metadata": {},
     "output_type": "execute_result"
    }
   ],
   "source": [
    "f\"{first_name} {last_name}\""
   ]
  },
  {
   "cell_type": "code",
   "execution_count": 16,
   "id": "4b7c800d-c92c-4482-8d13-6ff7266b9ed9",
   "metadata": {},
   "outputs": [
    {
     "data": {
      "text/plain": [
       "'Muhammad Arif'"
      ]
     },
     "execution_count": 16,
     "metadata": {},
     "output_type": "execute_result"
    }
   ],
   "source": [
    "\"{0} {1}\".format(first_name, last_name) # METHOD-3"
   ]
  },
  {
   "cell_type": "code",
   "execution_count": 17,
   "id": "cc7d94ff-486c-4104-9816-17f6fb79d931",
   "metadata": {},
   "outputs": [
    {
     "data": {
      "text/plain": [
       "'Muhammad Arif'"
      ]
     },
     "execution_count": 17,
     "metadata": {},
     "output_type": "execute_result"
    }
   ],
   "source": [
    "first_name +\" \"+ last_name # METHIOD-1"
   ]
  },
  {
   "cell_type": "code",
   "execution_count": 8,
   "id": "f9507c59-3017-43dd-a52a-76dbd788114f",
   "metadata": {},
   "outputs": [
    {
     "name": "stdout",
     "output_type": "stream",
     "text": [
      "grade F\n"
     ]
    }
   ],
   "source": [
    "marks = int(input(\"enter your marks:\"))\n",
    "\n",
    "if marks> 80 and marks <= 100:\n",
    "    print(\"grade A\")\n",
    "elif marks> 60 and marks <= 80:\n",
    "    print(\"grade B\")\n",
    "elif marks> 50 and marks <= 60:\n",
    "    print(\"grade C\")\n",
    "elif marks> 45 and marks <= 50:\n",
    "    print(\"grade D\")\n",
    "elif marks> 25 and marks <= 45:\n",
    "    print(\"grade E\")\n",
    "elif marks> 0 and marks <= 25:\n",
    "    print(\"grade F\")\n",
    "else:\n",
    "    print('invaild input')"
   ]
  },
  {
   "cell_type": "code",
   "execution_count": 11,
   "id": "6e27fac6-89c9-4788-a429-bc28ff826f26",
   "metadata": {},
   "outputs": [
    {
     "name": "stdin",
     "output_type": "stream",
     "text": [
      "enter your marks:  80\n"
     ]
    },
    {
     "name": "stdout",
     "output_type": "stream",
     "text": [
      "80\n"
     ]
    }
   ],
   "source": [
    "marks = input (\"enter your marks: \")\n",
    "\n",
    "print(marks)"
   ]
  },
  {
   "cell_type": "code",
   "execution_count": 12,
   "id": "6e48f3c3-0c03-4cd0-922e-3cd572a5a79d",
   "metadata": {},
   "outputs": [
    {
     "ename": "SyntaxError",
     "evalue": "'(' was never closed (329928372.py, line 2)",
     "output_type": "error",
     "traceback": [
      "\u001b[1;36m  Cell \u001b[1;32mIn[12], line 2\u001b[1;36m\u001b[0m\n\u001b[1;33m    gender = (input(\"what your gender (M/F): \")\u001b[0m\n\u001b[1;37m             ^\u001b[0m\n\u001b[1;31mSyntaxError\u001b[0m\u001b[1;31m:\u001b[0m '(' was never closed\n"
     ]
    }
   ],
   "source": [
    "age = int(input(\"enter your age: \"))\n",
    "gender = (input(\"what your gender (M/F): \")\n",
    "maritalstatus = input(\"enter your marital status (Y/N):\")\n",
    "\n",
    "if gender == \"F\":\n",
    "    print (w)"
   ]
  },
  {
   "cell_type": "code",
   "execution_count": 14,
   "id": "1cf24315-ffeb-40fb-8277-675bbfd3aa3c",
   "metadata": {},
   "outputs": [
    {
     "data": {
      "text/plain": [
       "['south koria', 'pakistan', 'india', 'china', 'itly']"
      ]
     },
     "execution_count": 14,
     "metadata": {},
     "output_type": "execute_result"
    }
   ],
   "source": [
    " ['south koria', 'pakistan', 'india', 'china', 'itly']"
   ]
  },
  {
   "cell_type": "code",
   "execution_count": 15,
   "id": "3ed74e0e-840e-4e79-acaa-58d6dc7f696c",
   "metadata": {},
   "outputs": [
    {
     "ename": "NameError",
     "evalue": "name 'countries' is not defined",
     "output_type": "error",
     "traceback": [
      "\u001b[1;31m---------------------------------------------------------------------------\u001b[0m",
      "\u001b[1;31mNameError\u001b[0m                                 Traceback (most recent call last)",
      "Cell \u001b[1;32mIn[15], line 1\u001b[0m\n\u001b[1;32m----> 1\u001b[0m countries [\u001b[38;5;241m1\u001b[39m:\u001b[38;5;241m2\u001b[39m]\n",
      "\u001b[1;31mNameError\u001b[0m: name 'countries' is not defined"
     ]
    }
   ],
   "source": [
    "countries [1:2]"
   ]
  },
  {
   "cell_type": "code",
   "execution_count": null,
   "id": "be74953c-5591-471a-a249-8954cab69db3",
   "metadata": {},
   "outputs": [],
   "source": []
  }
 ],
 "metadata": {
  "kernelspec": {
   "display_name": "Python 3 (ipykernel)",
   "language": "python",
   "name": "python3"
  },
  "language_info": {
   "codemirror_mode": {
    "name": "ipython",
    "version": 3
   },
   "file_extension": ".py",
   "mimetype": "text/x-python",
   "name": "python",
   "nbconvert_exporter": "python",
   "pygments_lexer": "ipython3",
   "version": "3.12.7"
  }
 },
 "nbformat": 4,
 "nbformat_minor": 5
}
