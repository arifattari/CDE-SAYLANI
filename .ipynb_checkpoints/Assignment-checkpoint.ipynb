{
 "cells": [
  {
   "cell_type": "code",
   "execution_count": 3,
   "id": "9e77bfb3-8d58-4abf-9598-a6fa9f30a8d7",
   "metadata": {},
   "outputs": [
    {
     "name": "stdout",
     "output_type": "stream",
     "text": [
      "Muhammad Arif\n"
     ]
    }
   ],
   "source": [
    "name = \"Muhammad Arif\"\n",
    "print(name)"
   ]
  },
  {
   "cell_type": "code",
   "execution_count": 7,
   "id": "16beb24e-6e02-4dcc-8dbe-bffeaa2affce",
   "metadata": {},
   "outputs": [
    {
     "name": "stdout",
     "output_type": "stream",
     "text": [
      "Muhammad javed\n"
     ]
    }
   ],
   "source": [
    "father_name = \"Muhammad javed\"\n",
    "print(father_name)"
   ]
  },
  {
   "cell_type": "code",
   "execution_count": 1,
   "id": "0a382cdf-dc8d-4087-865f-663c21973b30",
   "metadata": {},
   "outputs": [
    {
     "name": "stdout",
     "output_type": "stream",
     "text": [
      "My name is Muhammad Arif, and my education level is Inter.\n",
      "I have work experience as Accountant with 3 years of experience.\n",
      "My skills include MS Office, teaching, accounting, and more..\n"
     ]
    }
   ],
   "source": [
    "# Defining variables\n",
    "name = \"Muhammad Arif\"\n",
    "education = \"Inter\"\n",
    "work_experience = \"Accountant with 3 years of experience\"\n",
    "skills = \"MS Office, teaching, accounting, and more.\"\n",
    "\n",
    "# Printing the bio\n",
    "print(f\"My name is {name}, and my education level is {education}.\")\n",
    "print(f\"I have work experience as {work_experience}.\")\n",
    "print(f\"My skills include {skills}.\")\n"
   ]
  },
  {
   "cell_type": "code",
   "execution_count": 50,
   "id": "faf9cda6-16db-4aec-93dd-dd86ca2feee7",
   "metadata": {},
   "outputs": [],
   "source": [
    "a = 50\n",
    "b = 2"
   ]
  },
  {
   "cell_type": "code",
   "execution_count": 22,
   "id": "5d98b441-0ba5-4036-b268-bb9948cfbff9",
   "metadata": {},
   "outputs": [
    {
     "name": "stdout",
     "output_type": "stream",
     "text": [
      "52\n",
      "48\n",
      "100\n",
      "25.0\n",
      "25\n",
      "2500\n",
      "0\n"
     ]
    }
   ],
   "source": [
    "print(a + b)\n",
    "print(a - b)\n",
    "print(a * b)\n",
    "print(a / b)\n",
    "print(a // b)\n",
    "print(a ** b)\n",
    "print(a % b)"
   ]
  },
  {
   "cell_type": "code",
   "execution_count": 51,
   "id": "ccef4ee9-715d-4735-9ad4-7912964ce88e",
   "metadata": {},
   "outputs": [
    {
     "name": "stdout",
     "output_type": "stream",
     "text": [
      "True\n",
      "False\n",
      "False\n",
      "True\n",
      "True\n",
      "False\n"
     ]
    }
   ],
   "source": [
    "print(a > b)\n",
    "print(a < b)\n",
    "print(a == b)\n",
    "print(a != b)\n",
    "print(a >= b)\n",
    "print(a <= b)"
   ]
  },
  {
   "cell_type": "code",
   "execution_count": 88,
   "id": "89fbb4cd-87f4-494f-98a3-726f233d7ee4",
   "metadata": {},
   "outputs": [],
   "source": [
    "x = \"true\"\n",
    "y = \"false\""
   ]
  },
  {
   "cell_type": "code",
   "execution_count": 89,
   "id": "fcf57396-dedb-472b-8cff-b2c56d4e023e",
   "metadata": {},
   "outputs": [
    {
     "name": "stdout",
     "output_type": "stream",
     "text": [
      "true\n",
      "false\n"
     ]
    }
   ],
   "source": [
    "print(x or y)\n",
    "print(x and y)"
   ]
  },
  {
   "cell_type": "code",
   "execution_count": 90,
   "id": "4f8cf932-0ec0-4cf3-aca2-fae153700f6a",
   "metadata": {},
   "outputs": [],
   "source": [
    "english_marks = 85\n",
    "islamiat_marks = 90\n",
    "maths_marks = 95\n",
    "\n",
    "total_marks = 300\n",
    "\n",
    "obtained_marks = english_marks + islamiat_marks + maths_marks\n",
    "percentage = (obtained_marks / total_marks) * 100\n"
   ]
  },
  {
   "cell_type": "code",
   "execution_count": 93,
   "id": "ede66699-19c6-430e-b300-090bb6cd3e91",
   "metadata": {},
   "outputs": [
    {
     "name": "stdout",
     "output_type": "stream",
     "text": [
      "270\n",
      "90.0\n"
     ]
    }
   ],
   "source": [
    "print(obtained_marks)\n",
    "print(percentage)"
   ]
  },
  {
   "cell_type": "code",
   "execution_count": 108,
   "id": "9f171e3b-077e-4a85-80b2-5743ccd8684a",
   "metadata": {},
   "outputs": [
    {
     "name": "stdout",
     "output_type": "stream",
     "text": [
      "Congratulations! You are eligible for a bonus of:\n"
     ]
    }
   ],
   "source": [
    "salary = 38000\n",
    "years_of_service = 5\n",
    "\n",
    "if years_of_service >= 5:\n",
    "    bonus = salary * 0.05\n",
    "    print(\"Congratulations! You are eligible for a bonus of:\" )\n",
    "else:\n",
    "\n",
    "    print(\"Sorry, you are not eligible for a bonus.\")\n",
    "\n",
    "\n"
   ]
  },
  {
   "cell_type": "code",
   "execution_count": null,
   "id": "c7d44df3-1838-4ea5-94cb-a7e61fed788b",
   "metadata": {},
   "outputs": [],
   "source": []
  }
 ],
 "metadata": {
  "kernelspec": {
   "display_name": "Python 3 (ipykernel)",
   "language": "python",
   "name": "python3"
  },
  "language_info": {
   "codemirror_mode": {
    "name": "ipython",
    "version": 3
   },
   "file_extension": ".py",
   "mimetype": "text/x-python",
   "name": "python",
   "nbconvert_exporter": "python",
   "pygments_lexer": "ipython3",
   "version": "3.12.7"
  }
 },
 "nbformat": 4,
 "nbformat_minor": 5
}
